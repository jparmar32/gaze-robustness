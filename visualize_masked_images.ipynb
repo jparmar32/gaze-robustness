{
 "cells": [
  {
   "cell_type": "markdown",
   "metadata": {},
   "source": [
    "Helps to visualize the outputs of various masking approachs utilizing both ground truth segmentations as well as gaze information\n",
    " "
   ]
  },
  {
   "cell_type": "code",
   "execution_count": 1,
   "metadata": {},
   "outputs": [],
   "source": [
    "import numpy as np\n",
    "import matplotlib.pyplot as plt \n",
    "from dataloader import RoboGazeDataset\n",
    "import argparse\n",
    "from utils import load_file_markers, get_data_transforms\n",
    "import pickle\n",
    "import os\n",
    "import random \n",
    "\n",
    "parser = argparse.ArgumentParser()\n",
    "parser.add_argument(\"--actdiff_gaze_threshold\", type=float, default=0, help=\"Value to threshold Gaze Heatmaps at\")\n",
    "\n",
    "transforms = get_data_transforms(\"cxr\", normalization_type=\"train_images\")\n",
    "source=\"cxr_p\""
   ]
  },
  {
   "cell_type": "code",
   "execution_count": 2,
   "metadata": {},
   "outputs": [],
   "source": [
    "with open('/media/pneumothorax/cxr_tube_dict.pkl', 'rb') as f:          \n",
    "        cxr_tube_dict = pickle.load(f)\n",
    "\n",
    "file_dir = os.path.join(\"./filemarkers\", source)\n",
    "file_markers_dir = os.path.join(file_dir, \"trainval_list.pkl\")\n",
    "with open(file_markers_dir, \"rb\") as fp:\n",
    "    file_markers = pickle.load(fp)\n",
    "\n",
    "positives = [img_id for img_id, label in file_markers if label]\n",
    "negatives = [img_id for img_id, label in file_markers if not label]\n",
    "\n",
    "positive_tubes = [img_id for img_id in positives if cxr_tube_dict[img_id.split(\"/\")[-1].split(\".dcm\")[0]]]\n",
    "positive_no_tubes = [img_id for img_id in positives if not cxr_tube_dict[img_id.split(\"/\")[-1].split(\".dcm\")[0]]]\n",
    "\n",
    "negatives_tubes = [img_id for img_id in negatives if cxr_tube_dict[img_id.split(\"/\")[-1].split(\".dcm\")[0]]]\n",
    "negatives_no_tubes = [img_id for img_id in negatives if not cxr_tube_dict[img_id.split(\"/\")[-1].split(\".dcm\")[0]]]\n",
    "\n",
    "\n",
    "abnormality_tube_ids = random.sample(positive_tubes, 5)\n",
    "abnormality_no_tube_ids = random.sample(positive_no_tubes, 5)\n",
    "no_abnormality_tube_ids = random.sample(negatives_tubes, 5)\n",
    "no_abnormality_no_tube_ids = random.sample(negatives_no_tubes, 5)"
   ]
  },
  {
   "cell_type": "code",
   "execution_count": 3,
   "metadata": {},
   "outputs": [],
   "source": [
    "def get_indices(dataset,abnormality_tube_ids, abnormality_no_tube_ids, no_abnormality_tube_ids, no_abnormality_no_tube_ids):\n",
    "\n",
    "    group_indices = {\"abnormality_tube\": [], \"abnormality_no_tube\": [], \"no_abnormality_tube\": [], \"no_abnormality_no_tube\": []}\n",
    "    for idx, file_marker in enumerate(dataset.file_markers):\n",
    "        img_id = file_marker[0]\n",
    "\n",
    "        if img_id in abnormality_tube_ids:\n",
    "            group_indices[\"abnormality_tube\"].append(idx)\n",
    "\n",
    "        if img_id in abnormality_no_tube_ids:\n",
    "            group_indices[\"abnormality_no_tube\"].append(idx)\n",
    "\n",
    "        if img_id in no_abnormality_tube_ids:\n",
    "            group_indices[\"no_abnormality_tube\"].append(idx)\n",
    "\n",
    "        if img_id in no_abnormality_no_tube_ids:\n",
    "            group_indices[\"no_abnormality_no_tube\"].append(idx)\n",
    "\n",
    "        \n",
    "    return group_indices"
   ]
  },
  {
   "cell_type": "markdown",
   "metadata": {},
   "source": [
    "Ground Truth Segmentation"
   ]
  },
  {
   "cell_type": "code",
   "execution_count": 15,
   "metadata": {},
   "outputs": [
    {
     "name": "stdout",
     "output_type": "stream",
     "text": [
      "760 files in train split...\n",
      "760 gaze sequences in train split...\n",
      "191 files in val split...\n",
      "191 gaze sequences in val split...\n",
      "{'abnormality_tube': [239, 325, 383], 'abnormality_no_tube': [147, 381, 549, 575], 'no_abnormality_tube': [81, 167, 234, 633], 'no_abnormality_no_tube': [146, 610, 737]}\n",
      "{'abnormality_tube': [30, 99], 'abnormality_no_tube': [87], 'no_abnormality_tube': [176], 'no_abnormality_no_tube': [57, 137]}\n"
     ]
    }
   ],
   "source": [
    "segmentation_datset = RoboGazeDataset(source, \"/media\", \"train\", transforms['train'], gaze_task=\"actdiff\")\n",
    "segmentation_datset_val = RoboGazeDataset(source, \"/media\", \"val\", transforms['val'], gaze_task=\"actdiff\")\n",
    "\n",
    "segmentation_image_indices_train = get_indices(segmentation_datset, abnormality_tube_ids, abnormality_no_tube_ids, no_abnormality_tube_ids, no_abnormality_no_tube_ids )\n",
    "segmentation_image_indices_val = get_indices(segmentation_datset_val, abnormality_tube_ids, abnormality_no_tube_ids, no_abnormality_tube_ids, no_abnormality_no_tube_ids )\n",
    "\n"
   ]
  },
  {
   "cell_type": "markdown",
   "metadata": {},
   "source": [
    "Gaze Heatmap "
   ]
  },
  {
   "cell_type": "code",
   "execution_count": 5,
   "metadata": {},
   "outputs": [
    {
     "name": "stdout",
     "output_type": "stream",
     "text": [
      "760 files in train split...\n",
      "760 gaze sequences in train split...\n"
     ]
    }
   ],
   "source": [
    "args = parser.parse_args(['--actdiff_gaze_threshold', '0'])\n",
    "gaze_dataset = RoboGazeDataset(source, \"/media\", \"train\", transforms['train'], gaze_task=\"actdiff_gaze\", args = args)\n",
    "gaze_dataset_val = RoboGazeDataset(source, \"/media\", \"val\", transforms['val'], gaze_task=\"actdiff_gaze\", args = args)\n",
    "\n",
    "gaze_image_indices_train = get_indices(gaze_dataset, abnormality_tube_ids, abnormality_no_tube_ids, no_abnormality_tube_ids, no_abnormality_no_tube_ids )\n",
    "gaze_image_indices_val = get_indices(gaze_dataset_val, abnormality_tube_ids, abnormality_no_tube_ids, no_abnormality_tube_ids, no_abnormality_no_tube_ids )\n"
   ]
  },
  {
   "cell_type": "markdown",
   "metadata": {},
   "source": [
    "Gaze Heatmap with a Threshold of 0.1"
   ]
  },
  {
   "cell_type": "code",
   "execution_count": 3,
   "metadata": {},
   "outputs": [
    {
     "name": "stdout",
     "output_type": "stream",
     "text": [
      "Namespace(actdiff_gaze_threshold=0.1)\n",
      "760 files in train split...\n",
      "760 gaze sequences in train split...\n"
     ]
    }
   ],
   "source": [
    "args = parser.parse_args(['--actdiff_gaze_threshold', '0.1'])\n",
    "gaze_threshold_datset = RoboGazeDataset(source, \"/media\", \"train\", transforms['train'], gaze_task=\"actdiff_gaze\", args = args)\n",
    "gaze_threshold_datset_val = RoboGazeDataset(source, \"/media\", \"val\", transforms['val'], gaze_task=\"actdiff_gaze\", args = args)\n",
    "\n",
    "gaze_threshold_image_indices_train = get_indices(gaze_threshold_datset, abnormality_tube_ids, abnormality_no_tube_ids, no_abnormality_tube_ids, no_abnormality_no_tube_ids )\n",
    "gaze_threshold_image_indices_val = get_indices(gaze_threshold_datset_val, abnormality_tube_ids, abnormality_no_tube_ids, no_abnormality_tube_ids, no_abnormality_no_tube_ids )\n",
    "\n",
    "\n"
   ]
  }
 ],
 "metadata": {
  "interpreter": {
   "hash": "8467838633869672bffb3dbdc9e8a592179ffc9951249405af65d49c05a5f59a"
  },
  "kernelspec": {
   "display_name": "Python 3.8.8 ('gaze-robustness')",
   "language": "python",
   "name": "python3"
  },
  "language_info": {
   "codemirror_mode": {
    "name": "ipython",
    "version": 3
   },
   "file_extension": ".py",
   "mimetype": "text/x-python",
   "name": "python",
   "nbconvert_exporter": "python",
   "pygments_lexer": "ipython3",
   "version": "3.8.8"
  },
  "orig_nbformat": 4
 },
 "nbformat": 4,
 "nbformat_minor": 2
}
